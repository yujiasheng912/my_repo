{
 "cells": [
  {
   "cell_type": "code",
   "execution_count": 4,
   "metadata": {
    "collapsed": false
   },
   "outputs": [
    {
     "name": "stdout",
     "output_type": "stream",
     "text": [
      "10000\n",
      "3.4809\n"
     ]
    }
   ],
   "source": [
    "import random\n",
    "def parking(low,high):\n",
    "    if high-low<1:\n",
    "        return 0\n",
    "    else:\n",
    "        x=random.uniform(low,high-1)\n",
    "        return parking(low,x)+1+parking(x+1,high)\n",
    "s=0\n",
    "n=int(input())\n",
    "for i in range(n):\n",
    "    s+=parking(0,5)\n",
    "print(float(s/n))"
   ]
  },
  {
   "cell_type": "code",
   "execution_count": null,
   "metadata": {
    "collapsed": true
   },
   "outputs": [],
   "source": []
  }
 ],
 "metadata": {
  "kernelspec": {
   "display_name": "Python 3",
   "language": "python",
   "name": "python3"
  },
  "language_info": {
   "codemirror_mode": {
    "name": "ipython",
    "version": 3
   },
   "file_extension": ".py",
   "mimetype": "text/x-python",
   "name": "python",
   "nbconvert_exporter": "python",
   "pygments_lexer": "ipython3",
   "version": "3.5.0"
  }
 },
 "nbformat": 4,
 "nbformat_minor": 0
}
