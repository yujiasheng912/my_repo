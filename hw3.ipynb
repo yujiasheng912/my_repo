{
 "cells": [
  {
   "cell_type": "code",
   "execution_count": 1,
   "metadata": {
    "collapsed": true
   },
   "outputs": [],
   "source": [
    "import math\n",
    "import numpy"
   ]
  },
  {
   "cell_type": "code",
   "execution_count": 3,
   "metadata": {
    "collapsed": false
   },
   "outputs": [
    {
     "name": "stdout",
     "output_type": "stream",
     "text": [
      "n:10\n",
      "s = 23\n"
     ]
    }
   ],
   "source": [
    "n=int(input('n:'))\n",
    "s=0\n",
    "for i in range(1,n):\n",
    "    if i%3==0:\n",
    "        s+=i\n",
    "    elif i%5==0:\n",
    "        s+=i\n",
    "print('s =',s)"
   ]
  },
  {
   "cell_type": "code",
   "execution_count": 4,
   "metadata": {
    "collapsed": true
   },
   "outputs": [],
   "source": [
    "def check_prime(num):\n",
    "    prime=True\n",
    "    for i in range(2,num):\n",
    "        if num%i==0:\n",
    "            #print('No',i)\n",
    "            prime=False\n",
    "            break\n",
    "    return prime"
   ]
  },
  {
   "cell_type": "code",
   "execution_count": 5,
   "metadata": {
    "collapsed": false
   },
   "outputs": [
    {
     "data": {
      "text/plain": [
       "True"
      ]
     },
     "execution_count": 5,
     "metadata": {},
     "output_type": "execute_result"
    }
   ],
   "source": [
    "check_prime(11)"
   ]
  },
  {
   "cell_type": "code",
   "execution_count": 6,
   "metadata": {
    "collapsed": false
   },
   "outputs": [
    {
     "name": "stdout",
     "output_type": "stream",
     "text": [
      "n:10\n",
      "17\n"
     ]
    }
   ],
   "source": [
    "n=int(input('n:'))\n",
    "prime_sum=0\n",
    "for i in range(2,n):\n",
    "    status=check_prime(i)\n",
    "    if status==True:\n",
    "        #print(i)\n",
    "        prime_sum+=i\n",
    "print(prime_sum)"
   ]
  },
  {
   "cell_type": "code",
   "execution_count": 7,
   "metadata": {
    "collapsed": true
   },
   "outputs": [],
   "source": [
    "def check_pcircle(n):\n",
    "    if n<10:\n",
    "        if check_prime(n)==True:\n",
    "            status=True\n",
    "        else:\n",
    "            status=False\n",
    "    if n<100 and n>=10:\n",
    "        d1=int(n%10)\n",
    "        d2=int((n-n%10)/10)\n",
    "        n1=int(n)\n",
    "        n2=int(d1*10+d2)\n",
    "        if check_prime(n1) and check_prime(n2)==True:\n",
    "            status=True\n",
    "        else:\n",
    "            status=False\n",
    "    if n>=100:\n",
    "        d1=int(n%10)\n",
    "        d2=int((n%100-n%10)/10)\n",
    "        d3=int((n-n%100)/100)\n",
    "        n1=int(n)\n",
    "        n2=int(d2*100+d1*10+d3)\n",
    "        n3=int(d1*100+d3*10+d2)\n",
    "        if check_prime(n1) and check_prime(n2) and check_prime(n3)==True:\n",
    "            status=True\n",
    "        else:\n",
    "            status=False\n",
    "    return status"
   ]
  },
  {
   "cell_type": "code",
   "execution_count": 8,
   "metadata": {
    "collapsed": false
   },
   "outputs": [
    {
     "data": {
      "text/plain": [
       "True"
      ]
     },
     "execution_count": 8,
     "metadata": {},
     "output_type": "execute_result"
    }
   ],
   "source": [
    "check_pcircle(79)"
   ]
  },
  {
   "cell_type": "code",
   "execution_count": 9,
   "metadata": {
    "collapsed": false
   },
   "outputs": [
    {
     "name": "stdout",
     "output_type": "stream",
     "text": [
      "n:100\n",
      "13\n"
     ]
    }
   ],
   "source": [
    "n=int(input('n:'))\n",
    "counter=0\n",
    "for i in range(2,n):\n",
    "    if check_pcircle(i)==True:\n",
    "        counter+=1\n",
    "print(counter)"
   ]
  },
  {
   "cell_type": "code",
   "execution_count": 10,
   "metadata": {
    "collapsed": true
   },
   "outputs": [],
   "source": [
    "def check_pc(num):\n",
    "    np=0\n",
    "    n=num\n",
    "    while n!=0:\n",
    "        np=np*10+n%10\n",
    "        n=int(n/10)\n",
    "    if check_prime(num)==True and check_prime(np)==True:\n",
    "        status=True\n",
    "        #print(num,'is circle prime')\n",
    "    else:\n",
    "        status=False\n",
    "        #print(num,'is not circle prime')\n",
    "    return status"
   ]
  },
  {
   "cell_type": "code",
   "execution_count": 11,
   "metadata": {
    "collapsed": false
   },
   "outputs": [
    {
     "data": {
      "text/plain": [
       "True"
      ]
     },
     "execution_count": 11,
     "metadata": {},
     "output_type": "execute_result"
    }
   ],
   "source": [
    "check_pc(79)"
   ]
  },
  {
   "cell_type": "code",
   "execution_count": 12,
   "metadata": {
    "collapsed": false
   },
   "outputs": [
    {
     "name": "stdout",
     "output_type": "stream",
     "text": [
      "n:100\n",
      "13\n"
     ]
    }
   ],
   "source": [
    "n=int(input('n:'))\n",
    "counter=0\n",
    "for i in range(2,n):\n",
    "    if check_pc(i)==True:\n",
    "        counter+=1\n",
    "print(counter)"
   ]
  },
  {
   "cell_type": "code",
   "execution_count": null,
   "metadata": {
    "collapsed": true
   },
   "outputs": [],
   "source": []
  }
 ],
 "metadata": {
  "kernelspec": {
   "display_name": "Python 3",
   "language": "python",
   "name": "python3"
  },
  "language_info": {
   "codemirror_mode": {
    "name": "ipython",
    "version": 3
   },
   "file_extension": ".py",
   "mimetype": "text/x-python",
   "name": "python",
   "nbconvert_exporter": "python",
   "pygments_lexer": "ipython3",
   "version": "3.5.0"
  }
 },
 "nbformat": 4,
 "nbformat_minor": 0
}
