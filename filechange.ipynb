{
 "cells": [
  {
   "cell_type": "code",
   "execution_count": 4,
   "metadata": {
    "collapsed": false
   },
   "outputs": [
    {
     "name": "stdout",
     "output_type": "stream",
     "text": [
      "ALWAYS\n",
      "BUCHANAN\n",
      "CHURCH\n",
      "DAVID\n",
      "EVIDENCE\n",
      "FORGIVE\n",
      "GOOGLE\n",
      "HARRIS\n",
      "INSURANCE\n",
      "JULIA\n",
      "KEEP\n",
      "LETTER\n",
      "MODULE\n",
      "NUCLEAR\n",
      "OPERATION\n",
      "PERFECT\n",
      "QUESTION\n",
      "RESTAURANT\n",
      "STRONG\n",
      "TERMINAL\n",
      "UNIFORM\n",
      "VERIFY\n",
      "WISCONSIN\n",
      "X-RAY\n",
      "YELLOW\n",
      "ZEBRA\n"
     ]
    }
   ],
   "source": [
    "f=open('atoz','r')\n",
    "for line in f:\n",
    "    line=line.strip()\n",
    "    print(line)\n",
    "f.close()"
   ]
  },
  {
   "cell_type": "code",
   "execution_count": 6,
   "metadata": {
    "collapsed": false
   },
   "outputs": [
    {
     "name": "stdout",
     "output_type": "stream",
     "text": [
      "Always\n",
      "Buchanan\n",
      "Church\n",
      "David\n",
      "Evidence\n",
      "Forgive\n",
      "Google\n",
      "Harris\n",
      "Insurance\n",
      "Julia\n",
      "Keep\n",
      "Letter\n",
      "Module\n",
      "Nuclear\n",
      "Operation\n",
      "Perfect\n",
      "Question\n",
      "Restaurant\n",
      "Strong\n",
      "Terminal\n",
      "Uniform\n",
      "Verify\n",
      "Wisconsin\n",
      "X-Ray\n",
      "Yellow\n",
      "Zebra\n"
     ]
    }
   ],
   "source": [
    "f=open('atoz','r')\n",
    "for line in f:\n",
    "    line=line.strip()\n",
    "    print(line.title())\n",
    "f.close()"
   ]
  },
  {
   "cell_type": "code",
   "execution_count": 8,
   "metadata": {
    "collapsed": false
   },
   "outputs": [
    {
     "data": {
      "text/plain": [
       "True"
      ]
     },
     "execution_count": 8,
     "metadata": {},
     "output_type": "execute_result"
    }
   ],
   "source": [
    "'123'.isdigit()"
   ]
  },
  {
   "cell_type": "code",
   "execution_count": 9,
   "metadata": {
    "collapsed": false
   },
   "outputs": [
    {
     "data": {
      "text/plain": [
       "3.141592653589793"
      ]
     },
     "execution_count": 9,
     "metadata": {},
     "output_type": "execute_result"
    }
   ],
   "source": [
    "import math\n",
    "math.pi"
   ]
  },
  {
   "cell_type": "code",
   "execution_count": 14,
   "metadata": {
    "collapsed": false
   },
   "outputs": [
    {
     "data": {
      "text/plain": [
       "'pi is 3.1416   '"
      ]
     },
     "execution_count": 14,
     "metadata": {},
     "output_type": "execute_result"
    }
   ],
   "source": [
    "'pi is {:<9.4f}'.format(math.pi)"
   ]
  },
  {
   "cell_type": "code",
   "execution_count": 19,
   "metadata": {
    "collapsed": false
   },
   "outputs": [
    {
     "name": "stdout",
     "output_type": "stream",
     "text": [
      "Name is OPERATION\n",
      "Name is RESTAURANT\n",
      "Name is TERMINAL\n",
      "Name is ZEBRA\n"
     ]
    }
   ],
   "source": [
    "import re\n",
    "f=open('atoz','r')\n",
    "for line in f:\n",
    "    line=line.strip()\n",
    "    pattern='E.+A'\n",
    "    result=re.search(pattern,line)\n",
    "    if result:\n",
    "        print('Name is {}'.format(line))\n",
    "f.close()"
   ]
  },
  {
   "cell_type": "code",
   "execution_count": null,
   "metadata": {
    "collapsed": true
   },
   "outputs": [],
   "source": []
  }
 ],
 "metadata": {
  "kernelspec": {
   "display_name": "Python 3",
   "language": "python",
   "name": "python3"
  },
  "language_info": {
   "codemirror_mode": {
    "name": "ipython",
    "version": 3
   },
   "file_extension": ".py",
   "mimetype": "text/x-python",
   "name": "python",
   "nbconvert_exporter": "python",
   "pygments_lexer": "ipython3",
   "version": "3.5.0"
  }
 },
 "nbformat": 4,
 "nbformat_minor": 0
}
