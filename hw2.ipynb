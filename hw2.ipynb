{
 "cells": [
  {
   "cell_type": "code",
   "execution_count": 1,
   "metadata": {
    "collapsed": true
   },
   "outputs": [],
   "source": [
    "import numpy\n",
    "import math"
   ]
  },
  {
   "cell_type": "code",
   "execution_count": 3,
   "metadata": {
    "collapsed": false
   },
   "outputs": [
    {
     "name": "stdout",
     "output_type": "stream",
     "text": [
      "6\n",
      "True\n"
     ]
    }
   ],
   "source": [
    "print(int(input())%2==0)"
   ]
  },
  {
   "cell_type": "code",
   "execution_count": 4,
   "metadata": {
    "collapsed": false
   },
   "outputs": [
    {
     "name": "stdout",
     "output_type": "stream",
     "text": [
      "10\n",
      "40\n",
      "15\n",
      "ans1=-0.41886116991581035\n",
      "ans2=-3.58113883008419\n"
     ]
    }
   ],
   "source": [
    "a=int(input())\n",
    "b=int(input())\n",
    "c=int(input())\n",
    "ans1=(-b+(b**2-4*a*c)**.5)/2/a\n",
    "ans2=(-b-(b**2-4*a*c)**.5)/2/a\n",
    "print('ans1={}'.format(ans1))\n",
    "print('ans2={}'.format(ans2))"
   ]
  },
  {
   "cell_type": "code",
   "execution_count": 5,
   "metadata": {
    "collapsed": false
   },
   "outputs": [
    {
     "name": "stdout",
     "output_type": "stream",
     "text": [
      "rm=12986.110602071087\n"
     ]
    }
   ],
   "source": [
    "n=0\n",
    "rm=0\n",
    "rt=0.047\n",
    "for n in range(10):\n",
    "    rm+=1000\n",
    "    n+=1\n",
    "    rm=rm*(1+rt)\n",
    "    \n",
    "print('rm={}'.format(rm))"
   ]
  },
  {
   "cell_type": "code",
   "execution_count": 6,
   "metadata": {
    "collapsed": false
   },
   "outputs": [
    {
     "name": "stdout",
     "output_type": "stream",
     "text": [
      "1468894467.651268\n"
     ]
    }
   ],
   "source": [
    "import time\n",
    "ticks=time.time()\n",
    "print(ticks)"
   ]
  },
  {
   "cell_type": "code",
   "execution_count": 7,
   "metadata": {
    "collapsed": false
   },
   "outputs": [
    {
     "name": "stdout",
     "output_type": "stream",
     "text": [
      "time.struct_time(tm_year=2016, tm_mon=7, tm_mday=18, tm_hour=22, tm_min=15, tm_sec=19, tm_wday=0, tm_yday=200, tm_isdst=1)\n"
     ]
    }
   ],
   "source": [
    "print(time.localtime(time.time()))"
   ]
  },
  {
   "cell_type": "code",
   "execution_count": 8,
   "metadata": {
    "collapsed": false
   },
   "outputs": [
    {
     "name": "stdout",
     "output_type": "stream",
     "text": [
      "2.0\n"
     ]
    }
   ],
   "source": [
    "x=7.0\n",
    "y=5\n",
    "print(x%y)"
   ]
  },
  {
   "cell_type": "code",
   "execution_count": 10,
   "metadata": {
    "collapsed": false
   },
   "outputs": [
    {
     "name": "stdout",
     "output_type": "stream",
     "text": [
      "weight:80\n",
      "high:1.75\n",
      "BMI=26.12\n"
     ]
    }
   ],
   "source": [
    "weight=float((input('weight:')))\n",
    "high=float((input('high:')))\n",
    "BMI=weight/high**2\n",
    "print('BMI={:.2f}'.format(BMI))"
   ]
  },
  {
   "cell_type": "code",
   "execution_count": 18,
   "metadata": {
    "collapsed": false
   },
   "outputs": [
    {
     "name": "stdout",
     "output_type": "stream",
     "text": [
      "input seconds:10000\n",
      "2 46 40\n"
     ]
    }
   ],
   "source": [
    "seconds=int(input('input seconds:'))\n",
    "hour=int((seconds-seconds%3600)/3600)\n",
    "minute=int(((seconds%3600)-(seconds%3600)%60)/60)\n",
    "second=int(seconds%60)\n",
    "print(hour,minute,second)"
   ]
  },
  {
   "cell_type": "code",
   "execution_count": 23,
   "metadata": {
    "collapsed": false
   },
   "outputs": [
    {
     "data": {
      "text/plain": [
       "90"
      ]
     },
     "execution_count": 23,
     "metadata": {},
     "output_type": "execute_result"
    }
   ],
   "source": [
    "int(math.acos(0)/math.pi*180)"
   ]
  },
  {
   "cell_type": "code",
   "execution_count": 24,
   "metadata": {
    "collapsed": false
   },
   "outputs": [
    {
     "name": "stdout",
     "output_type": "stream",
     "text": [
      "a=3\n",
      "b=4\n",
      "c=5\n",
      "C=90.0\n"
     ]
    }
   ],
   "source": [
    "a=float(input('a='))\n",
    "b=float(input('b='))\n",
    "c=float(input('c='))\n",
    "C=math.acos((a**2+b**2-c**2)/(2*a*b))/math.pi*180\n",
    "print('C={:.1f}'.format(C))"
   ]
  },
  {
   "cell_type": "code",
   "execution_count": null,
   "metadata": {
    "collapsed": true
   },
   "outputs": [],
   "source": []
  }
 ],
 "metadata": {
  "kernelspec": {
   "display_name": "Python 3",
   "language": "python",
   "name": "python3"
  },
  "language_info": {
   "codemirror_mode": {
    "name": "ipython",
    "version": 3
   },
   "file_extension": ".py",
   "mimetype": "text/x-python",
   "name": "python",
   "nbconvert_exporter": "python",
   "pygments_lexer": "ipython3",
   "version": "3.5.0"
  }
 },
 "nbformat": 4,
 "nbformat_minor": 0
}
