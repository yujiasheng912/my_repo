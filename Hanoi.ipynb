{
 "cells": [
  {
   "cell_type": "code",
   "execution_count": 1,
   "metadata": {
    "collapsed": true
   },
   "outputs": [],
   "source": [
    "count=0\n",
    "def hanoi(n,A,B,C):\n",
    "    global count\n",
    "    if n==1:\n",
    "        print('Move',n,'from',A,'to',C)\n",
    "        count+=1\n",
    "    else:\n",
    "        hanoi(n-1,A,C,B)\n",
    "        print('Move',n,'from',A,'to',C)\n",
    "        count+=1\n",
    "        hanoi(n-1,B,A,C)\n",
    "        \n",
    "    "
   ]
  },
  {
   "cell_type": "code",
   "execution_count": 2,
   "metadata": {
    "collapsed": false
   },
   "outputs": [
    {
     "name": "stdout",
     "output_type": "stream",
     "text": [
      "Move 1 from Left to Right\n",
      "Move 2 from Left to Mid\n",
      "Move 1 from Right to Mid\n",
      "Move 3 from Left to Right\n",
      "Move 1 from Mid to Left\n",
      "Move 2 from Mid to Right\n",
      "Move 1 from Left to Right\n",
      "Move 4 from Left to Mid\n",
      "Move 1 from Right to Mid\n",
      "Move 2 from Right to Left\n",
      "Move 1 from Mid to Left\n",
      "Move 3 from Right to Mid\n",
      "Move 1 from Left to Right\n",
      "Move 2 from Left to Mid\n",
      "Move 1 from Right to Mid\n",
      "Move 5 from Left to Right\n",
      "Move 1 from Mid to Left\n",
      "Move 2 from Mid to Right\n",
      "Move 1 from Left to Right\n",
      "Move 3 from Mid to Left\n",
      "Move 1 from Right to Mid\n",
      "Move 2 from Right to Left\n",
      "Move 1 from Mid to Left\n",
      "Move 4 from Mid to Right\n",
      "Move 1 from Left to Right\n",
      "Move 2 from Left to Mid\n",
      "Move 1 from Right to Mid\n",
      "Move 3 from Left to Right\n",
      "Move 1 from Mid to Left\n",
      "Move 2 from Mid to Right\n",
      "Move 1 from Left to Right\n",
      "count= 31\n"
     ]
    }
   ],
   "source": [
    "hanoi(5,'Left','Mid','Right')\n",
    "print('count=',count)"
   ]
  },
  {
   "cell_type": "code",
   "execution_count": null,
   "metadata": {
    "collapsed": true
   },
   "outputs": [],
   "source": []
  }
 ],
 "metadata": {
  "kernelspec": {
   "display_name": "Python 3",
   "language": "python",
   "name": "python3"
  },
  "language_info": {
   "codemirror_mode": {
    "name": "ipython",
    "version": 3
   },
   "file_extension": ".py",
   "mimetype": "text/x-python",
   "name": "python",
   "nbconvert_exporter": "python",
   "pygments_lexer": "ipython3",
   "version": "3.5.0"
  }
 },
 "nbformat": 4,
 "nbformat_minor": 0
}
